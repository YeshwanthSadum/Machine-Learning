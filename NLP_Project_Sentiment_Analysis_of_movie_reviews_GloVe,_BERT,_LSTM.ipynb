{
  "nbformat": 4,
  "nbformat_minor": 0,
  "metadata": {
    "colab": {
      "name": "NLP Project - Sentiment Analysis of movie reviews - GloVe, BERT, LSTM.ipynb",
      "provenance": [],
      "authorship_tag": "ABX9TyNx/fz+TLl4fgfw+rveT/7g",
      "include_colab_link": true
    },
    "kernelspec": {
      "name": "python3",
      "display_name": "Python 3"
    },
    "language_info": {
      "name": "python"
    },
    "accelerator": "GPU"
  },
  "cells": [
    {
      "cell_type": "markdown",
      "metadata": {
        "id": "view-in-github",
        "colab_type": "text"
      },
      "source": [
        "<a href=\"https://colab.research.google.com/github/YeshwanthSadum/Machine-Learning/blob/main/NLP_Project_Sentiment_Analysis_of_movie_reviews_GloVe%2C_BERT%2C_LSTM.ipynb\" target=\"_parent\"><img src=\"https://colab.research.google.com/assets/colab-badge.svg\" alt=\"Open In Colab\"/></a>"
      ]
    },
    {
      "cell_type": "markdown",
      "source": [
        " **Sentiment Analysis of movie reviews**\n",
        "\n",
        "Data set - Rotten Tomatoes Reviews Dataset - https://www.kaggle.com/datasets/mrbaloglu/rotten-tomatoes-reviews-dataset\n",
        "\n",
        "Consists of two columns - reviews and labels(0 and 1).\n",
        "\n",
        "Models:\n",
        "\n",
        "1. BERT, 2 dense layers followed by sigmoid activation.\n",
        "2. GLoVe + LSTM : LSTM is used with GloVe word embeddings. \n",
        "3. GloVe + GRU"
      ],
      "metadata": {
        "id": "vKIGfQDhGtVY"
      }
    },
    {
      "cell_type": "code",
      "source": [
        "pip install tensorflow_text"
      ],
      "metadata": {
        "id": "CGub1XuL3NJJ",
        "outputId": "ba666c28-caff-442b-c717-460ca493e727",
        "colab": {
          "base_uri": "https://localhost:8080/"
        }
      },
      "execution_count": null,
      "outputs": [
        {
          "output_type": "stream",
          "name": "stdout",
          "text": [
            "Collecting tensorflow_text\n",
            "  Downloading tensorflow_text-2.8.1-cp37-cp37m-manylinux_2_12_x86_64.manylinux2010_x86_64.whl (4.9 MB)\n",
            "\u001b[K     |████████████████████████████████| 4.9 MB 4.3 MB/s \n",
            "\u001b[?25hRequirement already satisfied: tensorflow<2.9,>=2.8.0 in /usr/local/lib/python3.7/dist-packages (from tensorflow_text) (2.8.0)\n",
            "Requirement already satisfied: tensorflow-hub>=0.8.0 in /usr/local/lib/python3.7/dist-packages (from tensorflow_text) (0.12.0)\n",
            "Requirement already satisfied: opt-einsum>=2.3.2 in /usr/local/lib/python3.7/dist-packages (from tensorflow<2.9,>=2.8.0->tensorflow_text) (3.3.0)\n",
            "Requirement already satisfied: six>=1.12.0 in /usr/local/lib/python3.7/dist-packages (from tensorflow<2.9,>=2.8.0->tensorflow_text) (1.15.0)\n",
            "Requirement already satisfied: gast>=0.2.1 in /usr/local/lib/python3.7/dist-packages (from tensorflow<2.9,>=2.8.0->tensorflow_text) (0.5.3)\n",
            "Requirement already satisfied: libclang>=9.0.1 in /usr/local/lib/python3.7/dist-packages (from tensorflow<2.9,>=2.8.0->tensorflow_text) (13.0.0)\n",
            "Requirement already satisfied: wrapt>=1.11.0 in /usr/local/lib/python3.7/dist-packages (from tensorflow<2.9,>=2.8.0->tensorflow_text) (1.14.0)\n",
            "Requirement already satisfied: astunparse>=1.6.0 in /usr/local/lib/python3.7/dist-packages (from tensorflow<2.9,>=2.8.0->tensorflow_text) (1.6.3)\n",
            "Requirement already satisfied: protobuf>=3.9.2 in /usr/local/lib/python3.7/dist-packages (from tensorflow<2.9,>=2.8.0->tensorflow_text) (3.17.3)\n",
            "Requirement already satisfied: h5py>=2.9.0 in /usr/local/lib/python3.7/dist-packages (from tensorflow<2.9,>=2.8.0->tensorflow_text) (3.1.0)\n",
            "Requirement already satisfied: keras-preprocessing>=1.1.1 in /usr/local/lib/python3.7/dist-packages (from tensorflow<2.9,>=2.8.0->tensorflow_text) (1.1.2)\n",
            "Requirement already satisfied: absl-py>=0.4.0 in /usr/local/lib/python3.7/dist-packages (from tensorflow<2.9,>=2.8.0->tensorflow_text) (1.0.0)\n",
            "Requirement already satisfied: keras<2.9,>=2.8.0rc0 in /usr/local/lib/python3.7/dist-packages (from tensorflow<2.9,>=2.8.0->tensorflow_text) (2.8.0)\n",
            "Requirement already satisfied: numpy>=1.20 in /usr/local/lib/python3.7/dist-packages (from tensorflow<2.9,>=2.8.0->tensorflow_text) (1.21.5)\n",
            "Requirement already satisfied: typing-extensions>=3.6.6 in /usr/local/lib/python3.7/dist-packages (from tensorflow<2.9,>=2.8.0->tensorflow_text) (3.10.0.2)\n",
            "Requirement already satisfied: flatbuffers>=1.12 in /usr/local/lib/python3.7/dist-packages (from tensorflow<2.9,>=2.8.0->tensorflow_text) (2.0)\n",
            "Requirement already satisfied: termcolor>=1.1.0 in /usr/local/lib/python3.7/dist-packages (from tensorflow<2.9,>=2.8.0->tensorflow_text) (1.1.0)\n",
            "Collecting tf-estimator-nightly==2.8.0.dev2021122109\n",
            "  Downloading tf_estimator_nightly-2.8.0.dev2021122109-py2.py3-none-any.whl (462 kB)\n",
            "\u001b[K     |████████████████████████████████| 462 kB 49.6 MB/s \n",
            "\u001b[?25hRequirement already satisfied: tensorboard<2.9,>=2.8 in /usr/local/lib/python3.7/dist-packages (from tensorflow<2.9,>=2.8.0->tensorflow_text) (2.8.0)\n",
            "Requirement already satisfied: tensorflow-io-gcs-filesystem>=0.23.1 in /usr/local/lib/python3.7/dist-packages (from tensorflow<2.9,>=2.8.0->tensorflow_text) (0.24.0)\n",
            "Requirement already satisfied: google-pasta>=0.1.1 in /usr/local/lib/python3.7/dist-packages (from tensorflow<2.9,>=2.8.0->tensorflow_text) (0.2.0)\n",
            "Requirement already satisfied: grpcio<2.0,>=1.24.3 in /usr/local/lib/python3.7/dist-packages (from tensorflow<2.9,>=2.8.0->tensorflow_text) (1.44.0)\n",
            "Requirement already satisfied: setuptools in /usr/local/lib/python3.7/dist-packages (from tensorflow<2.9,>=2.8.0->tensorflow_text) (57.4.0)\n",
            "Requirement already satisfied: wheel<1.0,>=0.23.0 in /usr/local/lib/python3.7/dist-packages (from astunparse>=1.6.0->tensorflow<2.9,>=2.8.0->tensorflow_text) (0.37.1)\n",
            "Requirement already satisfied: cached-property in /usr/local/lib/python3.7/dist-packages (from h5py>=2.9.0->tensorflow<2.9,>=2.8.0->tensorflow_text) (1.5.2)\n",
            "Requirement already satisfied: requests<3,>=2.21.0 in /usr/local/lib/python3.7/dist-packages (from tensorboard<2.9,>=2.8->tensorflow<2.9,>=2.8.0->tensorflow_text) (2.23.0)\n",
            "Requirement already satisfied: google-auth<3,>=1.6.3 in /usr/local/lib/python3.7/dist-packages (from tensorboard<2.9,>=2.8->tensorflow<2.9,>=2.8.0->tensorflow_text) (1.35.0)\n",
            "Requirement already satisfied: markdown>=2.6.8 in /usr/local/lib/python3.7/dist-packages (from tensorboard<2.9,>=2.8->tensorflow<2.9,>=2.8.0->tensorflow_text) (3.3.6)\n",
            "Requirement already satisfied: google-auth-oauthlib<0.5,>=0.4.1 in /usr/local/lib/python3.7/dist-packages (from tensorboard<2.9,>=2.8->tensorflow<2.9,>=2.8.0->tensorflow_text) (0.4.6)\n",
            "Requirement already satisfied: tensorboard-plugin-wit>=1.6.0 in /usr/local/lib/python3.7/dist-packages (from tensorboard<2.9,>=2.8->tensorflow<2.9,>=2.8.0->tensorflow_text) (1.8.1)\n",
            "Requirement already satisfied: werkzeug>=0.11.15 in /usr/local/lib/python3.7/dist-packages (from tensorboard<2.9,>=2.8->tensorflow<2.9,>=2.8.0->tensorflow_text) (1.0.1)\n",
            "Requirement already satisfied: tensorboard-data-server<0.7.0,>=0.6.0 in /usr/local/lib/python3.7/dist-packages (from tensorboard<2.9,>=2.8->tensorflow<2.9,>=2.8.0->tensorflow_text) (0.6.1)\n",
            "Requirement already satisfied: pyasn1-modules>=0.2.1 in /usr/local/lib/python3.7/dist-packages (from google-auth<3,>=1.6.3->tensorboard<2.9,>=2.8->tensorflow<2.9,>=2.8.0->tensorflow_text) (0.2.8)\n",
            "Requirement already satisfied: cachetools<5.0,>=2.0.0 in /usr/local/lib/python3.7/dist-packages (from google-auth<3,>=1.6.3->tensorboard<2.9,>=2.8->tensorflow<2.9,>=2.8.0->tensorflow_text) (4.2.4)\n",
            "Requirement already satisfied: rsa<5,>=3.1.4 in /usr/local/lib/python3.7/dist-packages (from google-auth<3,>=1.6.3->tensorboard<2.9,>=2.8->tensorflow<2.9,>=2.8.0->tensorflow_text) (4.8)\n",
            "Requirement already satisfied: requests-oauthlib>=0.7.0 in /usr/local/lib/python3.7/dist-packages (from google-auth-oauthlib<0.5,>=0.4.1->tensorboard<2.9,>=2.8->tensorflow<2.9,>=2.8.0->tensorflow_text) (1.3.1)\n",
            "Requirement already satisfied: importlib-metadata>=4.4 in /usr/local/lib/python3.7/dist-packages (from markdown>=2.6.8->tensorboard<2.9,>=2.8->tensorflow<2.9,>=2.8.0->tensorflow_text) (4.11.3)\n",
            "Requirement already satisfied: zipp>=0.5 in /usr/local/lib/python3.7/dist-packages (from importlib-metadata>=4.4->markdown>=2.6.8->tensorboard<2.9,>=2.8->tensorflow<2.9,>=2.8.0->tensorflow_text) (3.7.0)\n",
            "Requirement already satisfied: pyasn1<0.5.0,>=0.4.6 in /usr/local/lib/python3.7/dist-packages (from pyasn1-modules>=0.2.1->google-auth<3,>=1.6.3->tensorboard<2.9,>=2.8->tensorflow<2.9,>=2.8.0->tensorflow_text) (0.4.8)\n",
            "Requirement already satisfied: certifi>=2017.4.17 in /usr/local/lib/python3.7/dist-packages (from requests<3,>=2.21.0->tensorboard<2.9,>=2.8->tensorflow<2.9,>=2.8.0->tensorflow_text) (2021.10.8)\n",
            "Requirement already satisfied: chardet<4,>=3.0.2 in /usr/local/lib/python3.7/dist-packages (from requests<3,>=2.21.0->tensorboard<2.9,>=2.8->tensorflow<2.9,>=2.8.0->tensorflow_text) (3.0.4)\n",
            "Requirement already satisfied: idna<3,>=2.5 in /usr/local/lib/python3.7/dist-packages (from requests<3,>=2.21.0->tensorboard<2.9,>=2.8->tensorflow<2.9,>=2.8.0->tensorflow_text) (2.10)\n",
            "Requirement already satisfied: urllib3!=1.25.0,!=1.25.1,<1.26,>=1.21.1 in /usr/local/lib/python3.7/dist-packages (from requests<3,>=2.21.0->tensorboard<2.9,>=2.8->tensorflow<2.9,>=2.8.0->tensorflow_text) (1.24.3)\n",
            "Requirement already satisfied: oauthlib>=3.0.0 in /usr/local/lib/python3.7/dist-packages (from requests-oauthlib>=0.7.0->google-auth-oauthlib<0.5,>=0.4.1->tensorboard<2.9,>=2.8->tensorflow<2.9,>=2.8.0->tensorflow_text) (3.2.0)\n",
            "Installing collected packages: tf-estimator-nightly, tensorflow-text\n",
            "Successfully installed tensorflow-text-2.8.1 tf-estimator-nightly-2.8.0.dev2021122109\n"
          ]
        }
      ]
    },
    {
      "cell_type": "code",
      "execution_count": null,
      "metadata": {
        "id": "EjKRrR1S27J9"
      },
      "outputs": [],
      "source": [
        "import tensorflow as tf\n",
        "import tensorflow_hub as hub\n",
        "import tensorflow_text as text"
      ]
    },
    {
      "cell_type": "code",
      "source": [
        "import pandas as pd\n",
        "\n",
        "df = pd.read_csv(\"/content/data_rt.csv\")\n",
        "df.head(5)"
      ],
      "metadata": {
        "colab": {
          "base_uri": "https://localhost:8080/",
          "height": 362
        },
        "id": "JoHdwEaJ3xBZ",
        "outputId": "0ec43904-065b-439f-a092-3e34f23af4ce"
      },
      "execution_count": null,
      "outputs": [
        {
          "output_type": "error",
          "ename": "FileNotFoundError",
          "evalue": "ignored",
          "traceback": [
            "\u001b[0;31m---------------------------------------------------------------------------\u001b[0m",
            "\u001b[0;31mFileNotFoundError\u001b[0m                         Traceback (most recent call last)",
            "\u001b[0;32m<ipython-input-3-a1ef0d41f967>\u001b[0m in \u001b[0;36m<module>\u001b[0;34m()\u001b[0m\n\u001b[1;32m      1\u001b[0m \u001b[0;32mimport\u001b[0m \u001b[0mpandas\u001b[0m \u001b[0;32mas\u001b[0m \u001b[0mpd\u001b[0m\u001b[0;34m\u001b[0m\u001b[0;34m\u001b[0m\u001b[0m\n\u001b[1;32m      2\u001b[0m \u001b[0;34m\u001b[0m\u001b[0m\n\u001b[0;32m----> 3\u001b[0;31m \u001b[0mdf\u001b[0m \u001b[0;34m=\u001b[0m \u001b[0mpd\u001b[0m\u001b[0;34m.\u001b[0m\u001b[0mread_csv\u001b[0m\u001b[0;34m(\u001b[0m\u001b[0;34m\"/content/data_rt.csv\"\u001b[0m\u001b[0;34m)\u001b[0m\u001b[0;34m\u001b[0m\u001b[0;34m\u001b[0m\u001b[0m\n\u001b[0m\u001b[1;32m      4\u001b[0m \u001b[0mdf\u001b[0m\u001b[0;34m.\u001b[0m\u001b[0mhead\u001b[0m\u001b[0;34m(\u001b[0m\u001b[0;36m5\u001b[0m\u001b[0;34m)\u001b[0m\u001b[0;34m\u001b[0m\u001b[0;34m\u001b[0m\u001b[0m\n",
            "\u001b[0;32m/usr/local/lib/python3.7/dist-packages/pandas/util/_decorators.py\u001b[0m in \u001b[0;36mwrapper\u001b[0;34m(*args, **kwargs)\u001b[0m\n\u001b[1;32m    309\u001b[0m                     \u001b[0mstacklevel\u001b[0m\u001b[0;34m=\u001b[0m\u001b[0mstacklevel\u001b[0m\u001b[0;34m,\u001b[0m\u001b[0;34m\u001b[0m\u001b[0;34m\u001b[0m\u001b[0m\n\u001b[1;32m    310\u001b[0m                 )\n\u001b[0;32m--> 311\u001b[0;31m             \u001b[0;32mreturn\u001b[0m \u001b[0mfunc\u001b[0m\u001b[0;34m(\u001b[0m\u001b[0;34m*\u001b[0m\u001b[0margs\u001b[0m\u001b[0;34m,\u001b[0m \u001b[0;34m**\u001b[0m\u001b[0mkwargs\u001b[0m\u001b[0;34m)\u001b[0m\u001b[0;34m\u001b[0m\u001b[0;34m\u001b[0m\u001b[0m\n\u001b[0m\u001b[1;32m    312\u001b[0m \u001b[0;34m\u001b[0m\u001b[0m\n\u001b[1;32m    313\u001b[0m         \u001b[0;32mreturn\u001b[0m \u001b[0mwrapper\u001b[0m\u001b[0;34m\u001b[0m\u001b[0;34m\u001b[0m\u001b[0m\n",
            "\u001b[0;32m/usr/local/lib/python3.7/dist-packages/pandas/io/parsers/readers.py\u001b[0m in \u001b[0;36mread_csv\u001b[0;34m(filepath_or_buffer, sep, delimiter, header, names, index_col, usecols, squeeze, prefix, mangle_dupe_cols, dtype, engine, converters, true_values, false_values, skipinitialspace, skiprows, skipfooter, nrows, na_values, keep_default_na, na_filter, verbose, skip_blank_lines, parse_dates, infer_datetime_format, keep_date_col, date_parser, dayfirst, cache_dates, iterator, chunksize, compression, thousands, decimal, lineterminator, quotechar, quoting, doublequote, escapechar, comment, encoding, encoding_errors, dialect, error_bad_lines, warn_bad_lines, on_bad_lines, delim_whitespace, low_memory, memory_map, float_precision, storage_options)\u001b[0m\n\u001b[1;32m    584\u001b[0m     \u001b[0mkwds\u001b[0m\u001b[0;34m.\u001b[0m\u001b[0mupdate\u001b[0m\u001b[0;34m(\u001b[0m\u001b[0mkwds_defaults\u001b[0m\u001b[0;34m)\u001b[0m\u001b[0;34m\u001b[0m\u001b[0;34m\u001b[0m\u001b[0m\n\u001b[1;32m    585\u001b[0m \u001b[0;34m\u001b[0m\u001b[0m\n\u001b[0;32m--> 586\u001b[0;31m     \u001b[0;32mreturn\u001b[0m \u001b[0m_read\u001b[0m\u001b[0;34m(\u001b[0m\u001b[0mfilepath_or_buffer\u001b[0m\u001b[0;34m,\u001b[0m \u001b[0mkwds\u001b[0m\u001b[0;34m)\u001b[0m\u001b[0;34m\u001b[0m\u001b[0;34m\u001b[0m\u001b[0m\n\u001b[0m\u001b[1;32m    587\u001b[0m \u001b[0;34m\u001b[0m\u001b[0m\n\u001b[1;32m    588\u001b[0m \u001b[0;34m\u001b[0m\u001b[0m\n",
            "\u001b[0;32m/usr/local/lib/python3.7/dist-packages/pandas/io/parsers/readers.py\u001b[0m in \u001b[0;36m_read\u001b[0;34m(filepath_or_buffer, kwds)\u001b[0m\n\u001b[1;32m    480\u001b[0m \u001b[0;34m\u001b[0m\u001b[0m\n\u001b[1;32m    481\u001b[0m     \u001b[0;31m# Create the parser.\u001b[0m\u001b[0;34m\u001b[0m\u001b[0;34m\u001b[0m\u001b[0;34m\u001b[0m\u001b[0m\n\u001b[0;32m--> 482\u001b[0;31m     \u001b[0mparser\u001b[0m \u001b[0;34m=\u001b[0m \u001b[0mTextFileReader\u001b[0m\u001b[0;34m(\u001b[0m\u001b[0mfilepath_or_buffer\u001b[0m\u001b[0;34m,\u001b[0m \u001b[0;34m**\u001b[0m\u001b[0mkwds\u001b[0m\u001b[0;34m)\u001b[0m\u001b[0;34m\u001b[0m\u001b[0;34m\u001b[0m\u001b[0m\n\u001b[0m\u001b[1;32m    483\u001b[0m \u001b[0;34m\u001b[0m\u001b[0m\n\u001b[1;32m    484\u001b[0m     \u001b[0;32mif\u001b[0m \u001b[0mchunksize\u001b[0m \u001b[0;32mor\u001b[0m \u001b[0miterator\u001b[0m\u001b[0;34m:\u001b[0m\u001b[0;34m\u001b[0m\u001b[0;34m\u001b[0m\u001b[0m\n",
            "\u001b[0;32m/usr/local/lib/python3.7/dist-packages/pandas/io/parsers/readers.py\u001b[0m in \u001b[0;36m__init__\u001b[0;34m(self, f, engine, **kwds)\u001b[0m\n\u001b[1;32m    809\u001b[0m             \u001b[0mself\u001b[0m\u001b[0;34m.\u001b[0m\u001b[0moptions\u001b[0m\u001b[0;34m[\u001b[0m\u001b[0;34m\"has_index_names\"\u001b[0m\u001b[0;34m]\u001b[0m \u001b[0;34m=\u001b[0m \u001b[0mkwds\u001b[0m\u001b[0;34m[\u001b[0m\u001b[0;34m\"has_index_names\"\u001b[0m\u001b[0;34m]\u001b[0m\u001b[0;34m\u001b[0m\u001b[0;34m\u001b[0m\u001b[0m\n\u001b[1;32m    810\u001b[0m \u001b[0;34m\u001b[0m\u001b[0m\n\u001b[0;32m--> 811\u001b[0;31m         \u001b[0mself\u001b[0m\u001b[0;34m.\u001b[0m\u001b[0m_engine\u001b[0m \u001b[0;34m=\u001b[0m \u001b[0mself\u001b[0m\u001b[0;34m.\u001b[0m\u001b[0m_make_engine\u001b[0m\u001b[0;34m(\u001b[0m\u001b[0mself\u001b[0m\u001b[0;34m.\u001b[0m\u001b[0mengine\u001b[0m\u001b[0;34m)\u001b[0m\u001b[0;34m\u001b[0m\u001b[0;34m\u001b[0m\u001b[0m\n\u001b[0m\u001b[1;32m    812\u001b[0m \u001b[0;34m\u001b[0m\u001b[0m\n\u001b[1;32m    813\u001b[0m     \u001b[0;32mdef\u001b[0m \u001b[0mclose\u001b[0m\u001b[0;34m(\u001b[0m\u001b[0mself\u001b[0m\u001b[0;34m)\u001b[0m\u001b[0;34m:\u001b[0m\u001b[0;34m\u001b[0m\u001b[0;34m\u001b[0m\u001b[0m\n",
            "\u001b[0;32m/usr/local/lib/python3.7/dist-packages/pandas/io/parsers/readers.py\u001b[0m in \u001b[0;36m_make_engine\u001b[0;34m(self, engine)\u001b[0m\n\u001b[1;32m   1038\u001b[0m             )\n\u001b[1;32m   1039\u001b[0m         \u001b[0;31m# error: Too many arguments for \"ParserBase\"\u001b[0m\u001b[0;34m\u001b[0m\u001b[0;34m\u001b[0m\u001b[0;34m\u001b[0m\u001b[0m\n\u001b[0;32m-> 1040\u001b[0;31m         \u001b[0;32mreturn\u001b[0m \u001b[0mmapping\u001b[0m\u001b[0;34m[\u001b[0m\u001b[0mengine\u001b[0m\u001b[0;34m]\u001b[0m\u001b[0;34m(\u001b[0m\u001b[0mself\u001b[0m\u001b[0;34m.\u001b[0m\u001b[0mf\u001b[0m\u001b[0;34m,\u001b[0m \u001b[0;34m**\u001b[0m\u001b[0mself\u001b[0m\u001b[0;34m.\u001b[0m\u001b[0moptions\u001b[0m\u001b[0;34m)\u001b[0m  \u001b[0;31m# type: ignore[call-arg]\u001b[0m\u001b[0;34m\u001b[0m\u001b[0;34m\u001b[0m\u001b[0m\n\u001b[0m\u001b[1;32m   1041\u001b[0m \u001b[0;34m\u001b[0m\u001b[0m\n\u001b[1;32m   1042\u001b[0m     \u001b[0;32mdef\u001b[0m \u001b[0m_failover_to_python\u001b[0m\u001b[0;34m(\u001b[0m\u001b[0mself\u001b[0m\u001b[0;34m)\u001b[0m\u001b[0;34m:\u001b[0m\u001b[0;34m\u001b[0m\u001b[0;34m\u001b[0m\u001b[0m\n",
            "\u001b[0;32m/usr/local/lib/python3.7/dist-packages/pandas/io/parsers/c_parser_wrapper.py\u001b[0m in \u001b[0;36m__init__\u001b[0;34m(self, src, **kwds)\u001b[0m\n\u001b[1;32m     49\u001b[0m \u001b[0;34m\u001b[0m\u001b[0m\n\u001b[1;32m     50\u001b[0m         \u001b[0;31m# open handles\u001b[0m\u001b[0;34m\u001b[0m\u001b[0;34m\u001b[0m\u001b[0;34m\u001b[0m\u001b[0m\n\u001b[0;32m---> 51\u001b[0;31m         \u001b[0mself\u001b[0m\u001b[0;34m.\u001b[0m\u001b[0m_open_handles\u001b[0m\u001b[0;34m(\u001b[0m\u001b[0msrc\u001b[0m\u001b[0;34m,\u001b[0m \u001b[0mkwds\u001b[0m\u001b[0;34m)\u001b[0m\u001b[0;34m\u001b[0m\u001b[0;34m\u001b[0m\u001b[0m\n\u001b[0m\u001b[1;32m     52\u001b[0m         \u001b[0;32massert\u001b[0m \u001b[0mself\u001b[0m\u001b[0;34m.\u001b[0m\u001b[0mhandles\u001b[0m \u001b[0;32mis\u001b[0m \u001b[0;32mnot\u001b[0m \u001b[0;32mNone\u001b[0m\u001b[0;34m\u001b[0m\u001b[0;34m\u001b[0m\u001b[0m\n\u001b[1;32m     53\u001b[0m \u001b[0;34m\u001b[0m\u001b[0m\n",
            "\u001b[0;32m/usr/local/lib/python3.7/dist-packages/pandas/io/parsers/base_parser.py\u001b[0m in \u001b[0;36m_open_handles\u001b[0;34m(self, src, kwds)\u001b[0m\n\u001b[1;32m    227\u001b[0m             \u001b[0mmemory_map\u001b[0m\u001b[0;34m=\u001b[0m\u001b[0mkwds\u001b[0m\u001b[0;34m.\u001b[0m\u001b[0mget\u001b[0m\u001b[0;34m(\u001b[0m\u001b[0;34m\"memory_map\"\u001b[0m\u001b[0;34m,\u001b[0m \u001b[0;32mFalse\u001b[0m\u001b[0;34m)\u001b[0m\u001b[0;34m,\u001b[0m\u001b[0;34m\u001b[0m\u001b[0;34m\u001b[0m\u001b[0m\n\u001b[1;32m    228\u001b[0m             \u001b[0mstorage_options\u001b[0m\u001b[0;34m=\u001b[0m\u001b[0mkwds\u001b[0m\u001b[0;34m.\u001b[0m\u001b[0mget\u001b[0m\u001b[0;34m(\u001b[0m\u001b[0;34m\"storage_options\"\u001b[0m\u001b[0;34m,\u001b[0m \u001b[0;32mNone\u001b[0m\u001b[0;34m)\u001b[0m\u001b[0;34m,\u001b[0m\u001b[0;34m\u001b[0m\u001b[0;34m\u001b[0m\u001b[0m\n\u001b[0;32m--> 229\u001b[0;31m             \u001b[0merrors\u001b[0m\u001b[0;34m=\u001b[0m\u001b[0mkwds\u001b[0m\u001b[0;34m.\u001b[0m\u001b[0mget\u001b[0m\u001b[0;34m(\u001b[0m\u001b[0;34m\"encoding_errors\"\u001b[0m\u001b[0;34m,\u001b[0m \u001b[0;34m\"strict\"\u001b[0m\u001b[0;34m)\u001b[0m\u001b[0;34m,\u001b[0m\u001b[0;34m\u001b[0m\u001b[0;34m\u001b[0m\u001b[0m\n\u001b[0m\u001b[1;32m    230\u001b[0m         )\n\u001b[1;32m    231\u001b[0m \u001b[0;34m\u001b[0m\u001b[0m\n",
            "\u001b[0;32m/usr/local/lib/python3.7/dist-packages/pandas/io/common.py\u001b[0m in \u001b[0;36mget_handle\u001b[0;34m(path_or_buf, mode, encoding, compression, memory_map, is_text, errors, storage_options)\u001b[0m\n\u001b[1;32m    705\u001b[0m                 \u001b[0mencoding\u001b[0m\u001b[0;34m=\u001b[0m\u001b[0mioargs\u001b[0m\u001b[0;34m.\u001b[0m\u001b[0mencoding\u001b[0m\u001b[0;34m,\u001b[0m\u001b[0;34m\u001b[0m\u001b[0;34m\u001b[0m\u001b[0m\n\u001b[1;32m    706\u001b[0m                 \u001b[0merrors\u001b[0m\u001b[0;34m=\u001b[0m\u001b[0merrors\u001b[0m\u001b[0;34m,\u001b[0m\u001b[0;34m\u001b[0m\u001b[0;34m\u001b[0m\u001b[0m\n\u001b[0;32m--> 707\u001b[0;31m                 \u001b[0mnewline\u001b[0m\u001b[0;34m=\u001b[0m\u001b[0;34m\"\"\u001b[0m\u001b[0;34m,\u001b[0m\u001b[0;34m\u001b[0m\u001b[0;34m\u001b[0m\u001b[0m\n\u001b[0m\u001b[1;32m    708\u001b[0m             )\n\u001b[1;32m    709\u001b[0m         \u001b[0;32melse\u001b[0m\u001b[0;34m:\u001b[0m\u001b[0;34m\u001b[0m\u001b[0;34m\u001b[0m\u001b[0m\n",
            "\u001b[0;31mFileNotFoundError\u001b[0m: [Errno 2] No such file or directory: '/content/data_rt.csv'"
          ]
        }
      ]
    },
    {
      "cell_type": "code",
      "source": [
        "import numpy as np"
      ],
      "metadata": {
        "id": "tNxOYJhb42BO"
      },
      "execution_count": null,
      "outputs": []
    },
    {
      "cell_type": "code",
      "source": [
        "df.groupby('labels').describe()"
      ],
      "metadata": {
        "id": "sG0zACgo4Ael"
      },
      "execution_count": null,
      "outputs": []
    },
    {
      "cell_type": "code",
      "source": [
        "df.isnull().sum()"
      ],
      "metadata": {
        "id": "h-Y5M_I64FPf"
      },
      "execution_count": null,
      "outputs": []
    },
    {
      "cell_type": "markdown",
      "source": [
        "Splitting data into train test split"
      ],
      "metadata": {
        "id": "2wDJzDdV4U4G"
      }
    },
    {
      "cell_type": "code",
      "source": [
        "from sklearn.model_selection import train_test_split\n",
        "\n",
        "X_train, X_test, y_train, y_test = train_test_split(df['reviews'],df['labels'])"
      ],
      "metadata": {
        "id": "Xrqq89uh4ZBF"
      },
      "execution_count": null,
      "outputs": []
    },
    {
      "cell_type": "code",
      "source": [
        "len(y_train)"
      ],
      "metadata": {
        "id": "EiRnfwc04mep"
      },
      "execution_count": null,
      "outputs": []
    },
    {
      "cell_type": "code",
      "source": [
        "bert_preprocess = hub.KerasLayer(\"https://tfhub.dev/tensorflow/bert_en_uncased_preprocess/3\")\n",
        "bert_encoder = hub.KerasLayer(\"https://tfhub.dev/tensorflow/bert_en_uncased_L-12_H-768_A-12/4\")"
      ],
      "metadata": {
        "id": "8MCNVO3P5DlD"
      },
      "execution_count": null,
      "outputs": []
    },
    {
      "cell_type": "code",
      "source": [
        "def get_sentence_embeding(sentences):\n",
        "    preprocessed_text = bert_preprocess(sentences)\n",
        "    return bert_encoder(preprocessed_text)['pooled_output']\n",
        "\n",
        "get_sentence_embeding([\n",
        "    \"This is a very good movie\", \n",
        "    \"The climax was okay\"]\n",
        ")"
      ],
      "metadata": {
        "colab": {
          "base_uri": "https://localhost:8080/"
        },
        "id": "b-jys74N53kK",
        "outputId": "5c2a89e8-7c81-4f71-fd79-5d3f5470700d"
      },
      "execution_count": null,
      "outputs": [
        {
          "output_type": "execute_result",
          "data": {
            "text/plain": [
              "<tf.Tensor: shape=(2, 768), dtype=float32, numpy=\n",
              "array([[-0.9207194 , -0.40204158, -0.3329436 , ..., -0.25333905,\n",
              "        -0.6436804 ,  0.9090512 ],\n",
              "       [-0.8332587 , -0.17263016,  0.41510022, ...,  0.18888985,\n",
              "        -0.5539779 ,  0.8586857 ]], dtype=float32)>"
            ]
          },
          "metadata": {},
          "execution_count": 11
        }
      ]
    },
    {
      "cell_type": "markdown",
      "source": [
        "Build model"
      ],
      "metadata": {
        "id": "fhGuqR3L64iL"
      }
    },
    {
      "cell_type": "code",
      "source": [
        "# Bert layers\n",
        "text_input = tf.keras.layers.Input(shape=(), dtype=tf.string, name='text')\n",
        "preprocessed_text = bert_preprocess(text_input)\n",
        "outputs = bert_encoder(preprocessed_text)\n",
        "\n",
        "# Neural network layers\n",
        "l = tf.keras.layers.Dropout(0.1, name=\"dropout\")(outputs['pooled_output'])\n",
        "l = tf.keras.layers.Dense(64, activation='LeakyReLU', name=\"hiddenlayer1\")(l)\n",
        "l = tf.keras.layers.Dense(16, activation='LeakyReLU', name=\"hiddenlayer2\")(l)\n",
        "l = tf.keras.layers.Dense(1, activation='sigmoid', name=\"output\")(l)\n",
        "\n",
        "# Use inputs and outputs to construct a final model\n",
        "model = tf.keras.Model(inputs=[text_input], outputs = [l])"
      ],
      "metadata": {
        "id": "KkIwKBO_6We-"
      },
      "execution_count": null,
      "outputs": []
    },
    {
      "cell_type": "code",
      "source": [
        "model.summary()"
      ],
      "metadata": {
        "colab": {
          "base_uri": "https://localhost:8080/"
        },
        "id": "j4v6xJT76tPx",
        "outputId": "0b3827a1-2682-422d-e472-37504afacb1e"
      },
      "execution_count": null,
      "outputs": [
        {
          "output_type": "stream",
          "name": "stdout",
          "text": [
            "Model: \"model_7\"\n",
            "__________________________________________________________________________________________________\n",
            " Layer (type)                   Output Shape         Param #     Connected to                     \n",
            "==================================================================================================\n",
            " text (InputLayer)              [(None,)]            0           []                               \n",
            "                                                                                                  \n",
            " keras_layer (KerasLayer)       {'input_word_ids':   0           ['text[0][0]']                   \n",
            "                                (None, 128),                                                      \n",
            "                                 'input_type_ids':                                                \n",
            "                                (None, 128),                                                      \n",
            "                                 'input_mask': (Non                                               \n",
            "                                e, 128)}                                                          \n",
            "                                                                                                  \n",
            " keras_layer_1 (KerasLayer)     {'default': (None,   109482241   ['keras_layer[12][0]',           \n",
            "                                768),                             'keras_layer[12][1]',           \n",
            "                                 'sequence_output':               'keras_layer[12][2]']           \n",
            "                                 (None, 128, 768),                                                \n",
            "                                 'pooled_output': (                                               \n",
            "                                None, 768),                                                       \n",
            "                                 'encoder_outputs':                                               \n",
            "                                 [(None, 128, 768),                                               \n",
            "                                 (None, 128, 768),                                                \n",
            "                                 (None, 128, 768),                                                \n",
            "                                 (None, 128, 768),                                                \n",
            "                                 (None, 128, 768),                                                \n",
            "                                 (None, 128, 768),                                                \n",
            "                                 (None, 128, 768),                                                \n",
            "                                 (None, 128, 768),                                                \n",
            "                                 (None, 128, 768),                                                \n",
            "                                 (None, 128, 768),                                                \n",
            "                                 (None, 128, 768),                                                \n",
            "                                 (None, 128, 768)]}                                               \n",
            "                                                                                                  \n",
            " dropout (Dropout)              (None, 768)          0           ['keras_layer_1[12][13]']        \n",
            "                                                                                                  \n",
            " hiddenlayer1 (Dense)           (None, 64)           49216       ['dropout[0][0]']                \n",
            "                                                                                                  \n",
            " hiddenlayer2 (Dense)           (None, 16)           1040        ['hiddenlayer1[0][0]']           \n",
            "                                                                                                  \n",
            " output (Dense)                 (None, 1)            17          ['hiddenlayer2[0][0]']           \n",
            "                                                                                                  \n",
            "==================================================================================================\n",
            "Total params: 109,532,514\n",
            "Trainable params: 50,273\n",
            "Non-trainable params: 109,482,241\n",
            "__________________________________________________________________________________________________\n"
          ]
        }
      ]
    },
    {
      "cell_type": "code",
      "source": [
        "METRICS = [\n",
        "      tf.keras.metrics.BinaryAccuracy(name='accuracy'),\n",
        "      tf.keras.metrics.Precision(name='precision'),\n",
        "      tf.keras.metrics.Recall(name='recall')\n",
        "]\n",
        "\n",
        "model.compile(optimizer='adam',\n",
        "              loss='binary_crossentropy',\n",
        "              metrics=METRICS)"
      ],
      "metadata": {
        "id": "6GErLh6n6wZe"
      },
      "execution_count": null,
      "outputs": []
    },
    {
      "cell_type": "code",
      "source": [
        "model.fit(X_train, y_train, batch_size = 32, epochs=10)"
      ],
      "metadata": {
        "colab": {
          "base_uri": "https://localhost:8080/"
        },
        "id": "mObxwdvV6-7j",
        "outputId": "53c30876-bfc2-41d0-d1e3-db607f65b0e5"
      },
      "execution_count": null,
      "outputs": [
        {
          "output_type": "stream",
          "name": "stdout",
          "text": [
            "Epoch 1/10\n",
            "250/250 [==============================] - 85s 329ms/step - loss: 0.6764 - accuracy: 0.5813 - precision: 0.5835 - recall: 0.5762\n",
            "Epoch 2/10\n",
            "250/250 [==============================] - 83s 332ms/step - loss: 0.5956 - accuracy: 0.6768 - precision: 0.6841 - recall: 0.6605\n",
            "Epoch 3/10\n",
            "250/250 [==============================] - 83s 334ms/step - loss: 0.5657 - accuracy: 0.7117 - precision: 0.7222 - recall: 0.6907\n",
            "Epoch 4/10\n",
            "250/250 [==============================] - 82s 326ms/step - loss: 0.5362 - accuracy: 0.7296 - precision: 0.7376 - recall: 0.7151\n",
            "Epoch 5/10\n",
            "250/250 [==============================] - 86s 343ms/step - loss: 0.5225 - accuracy: 0.7406 - precision: 0.7532 - recall: 0.7179\n",
            "Epoch 6/10\n",
            "250/250 [==============================] - 86s 343ms/step - loss: 0.5178 - accuracy: 0.7482 - precision: 0.7579 - recall: 0.7316\n",
            "Epoch 7/10\n",
            "250/250 [==============================] - 82s 327ms/step - loss: 0.5114 - accuracy: 0.7514 - precision: 0.7670 - recall: 0.7241\n",
            "Epoch 8/10\n",
            "250/250 [==============================] - 82s 329ms/step - loss: 0.5169 - accuracy: 0.7446 - precision: 0.7563 - recall: 0.7239\n",
            "Epoch 9/10\n",
            "250/250 [==============================] - 81s 325ms/step - loss: 0.5114 - accuracy: 0.7494 - precision: 0.7611 - recall: 0.7289\n",
            "Epoch 10/10\n",
            "250/250 [==============================] - 81s 326ms/step - loss: 0.5079 - accuracy: 0.7485 - precision: 0.7602 - recall: 0.7281\n"
          ]
        },
        {
          "output_type": "execute_result",
          "data": {
            "text/plain": [
              "<keras.callbacks.History at 0x7f44b16db8d0>"
            ]
          },
          "metadata": {},
          "execution_count": 47
        }
      ]
    },
    {
      "cell_type": "code",
      "source": [
        "from sklearn.metrics import confusion_matrix, classification_report\n",
        "model.evaluate(X_test, y_test)"
      ],
      "metadata": {
        "colab": {
          "base_uri": "https://localhost:8080/"
        },
        "id": "SI_jBtqO7kHt",
        "outputId": "80f04f41-d7b9-4610-82b8-b2dff0cedec1"
      },
      "execution_count": null,
      "outputs": [
        {
          "output_type": "stream",
          "name": "stdout",
          "text": [
            "84/84 [==============================] - 27s 311ms/step - loss: 0.5526 - accuracy: 0.7179 - precision: 0.9014 - recall: 0.4841\n"
          ]
        },
        {
          "output_type": "execute_result",
          "data": {
            "text/plain": [
              "[0.5525515675544739,\n",
              " 0.717929482460022,\n",
              " 0.9014084339141846,\n",
              " 0.48411497473716736]"
            ]
          },
          "metadata": {},
          "execution_count": 48
        }
      ]
    },
    {
      "cell_type": "code",
      "source": [
        "y_predicted = model.predict(X_test)\n",
        "y_predicted = y_predicted.flatten()"
      ],
      "metadata": {
        "id": "s4j3uOFmBC6Y"
      },
      "execution_count": null,
      "outputs": []
    },
    {
      "cell_type": "code",
      "source": [
        "y_predicted = np.where(y_predicted>0.5, 1,0)"
      ],
      "metadata": {
        "id": "DSqT2i8nI3Wd"
      },
      "execution_count": null,
      "outputs": []
    },
    {
      "cell_type": "code",
      "source": [
        "y_predicted"
      ],
      "metadata": {
        "colab": {
          "base_uri": "https://localhost:8080/"
        },
        "id": "j0I0uuOSJCXZ",
        "outputId": "65549ffc-c7e5-40ed-e06d-493ac639ba56"
      },
      "execution_count": null,
      "outputs": [
        {
          "output_type": "execute_result",
          "data": {
            "text/plain": [
              "array([0, 0, 1, ..., 0, 1, 1])"
            ]
          },
          "metadata": {},
          "execution_count": 83
        }
      ]
    },
    {
      "cell_type": "code",
      "source": [
        "cm = confusion_matrix(y_test, y_predicted)\n",
        "cm"
      ],
      "metadata": {
        "colab": {
          "base_uri": "https://localhost:8080/"
        },
        "id": "A8zYeTLhBT1d",
        "outputId": "b2b7e5e9-d618-4410-bb6b-3d6fd43414f5"
      },
      "execution_count": null,
      "outputs": [
        {
          "output_type": "execute_result",
          "data": {
            "text/plain": [
              "array([[1274,   70],\n",
              "       [ 682,  640]])"
            ]
          },
          "metadata": {},
          "execution_count": 84
        }
      ]
    },
    {
      "cell_type": "code",
      "source": [
        "#y_predicted = np.where(y_predicted > 0.5, 1, 0)\n",
        "from matplotlib import pyplot as plt\n",
        "import seaborn as sn\n",
        "sn.heatmap(cm, annot=True, fmt='d')\n",
        "plt.xlabel('Predicted')\n",
        "plt.ylabel('Truth')"
      ],
      "metadata": {
        "colab": {
          "base_uri": "https://localhost:8080/",
          "height": 296
        },
        "id": "TvcAKiWM8vWl",
        "outputId": "4435bf01-429a-4384-807c-65c75a40c0c3"
      },
      "execution_count": null,
      "outputs": [
        {
          "output_type": "execute_result",
          "data": {
            "text/plain": [
              "Text(33.0, 0.5, 'Truth')"
            ]
          },
          "metadata": {},
          "execution_count": 85
        },
        {
          "output_type": "display_data",
          "data": {
            "text/plain": [
              "<Figure size 432x288 with 2 Axes>"
            ],
            "image/png": "[encoded data removed]"
          },
          "metadata": {
            "needs_background": "light"
          }
        }
      ]
    },
    {
      "cell_type": "code",
      "source": [
        "print(classification_report(y_test, y_predicted))"
      ],
      "metadata": {
        "colab": {
          "base_uri": "https://localhost:8080/"
        },
        "id": "EUpSw_34813O",
        "outputId": "d259475c-6e86-40ae-8839-8497c5888402"
      },
      "execution_count": null,
      "outputs": [
        {
          "output_type": "stream",
          "name": "stdout",
          "text": [
            "              precision    recall  f1-score   support\n",
            "\n",
            "           0       0.65      0.95      0.77      1344\n",
            "           1       0.90      0.48      0.63      1322\n",
            "\n",
            "    accuracy                           0.72      2666\n",
            "   macro avg       0.78      0.72      0.70      2666\n",
            "weighted avg       0.78      0.72      0.70      2666\n",
            "\n"
          ]
        }
      ]
    },
    {
      "cell_type": "markdown",
      "source": [
        "#LSTM + GloVe"
      ],
      "metadata": {
        "id": "ZeUxzG4khJlS"
      }
    },
    {
      "cell_type": "code",
      "source": [
        "!wget http://nlp.stanford.edu/data/glove.6B.zip\n",
        "!unzip -q glove.6B.zip"
      ],
      "metadata": {
        "colab": {
          "base_uri": "https://localhost:8080/"
        },
        "id": "iZ_rEdtcAyaP",
        "outputId": "4437dbca-c429-41f5-ae9a-08c2caa49937"
      },
      "execution_count": null,
      "outputs": [
        {
          "output_type": "stream",
          "name": "stdout",
          "text": [
            "--2022-04-04 19:58:21--  http://nlp.stanford.edu/data/glove.6B.zip\n",
            "Resolving nlp.stanford.edu (nlp.stanford.edu)... 171.64.67.140\n",
            "Connecting to nlp.stanford.edu (nlp.stanford.edu)|171.64.67.140|:80... connected.\n",
            "HTTP request sent, awaiting response... 302 Found\n",
            "Location: https://nlp.stanford.edu/data/glove.6B.zip [following]\n",
            "--2022-04-04 19:58:21--  https://nlp.stanford.edu/data/glove.6B.zip\n",
            "Connecting to nlp.stanford.edu (nlp.stanford.edu)|171.64.67.140|:443... connected.\n",
            "HTTP request sent, awaiting response... 301 Moved Permanently\n",
            "Location: http://downloads.cs.stanford.edu/nlp/data/glove.6B.zip [following]\n",
            "--2022-04-04 19:58:21--  http://downloads.cs.stanford.edu/nlp/data/glove.6B.zip\n",
            "Resolving downloads.cs.stanford.edu (downloads.cs.stanford.edu)... 171.64.64.22\n",
            "Connecting to downloads.cs.stanford.edu (downloads.cs.stanford.edu)|171.64.64.22|:80... connected.\n",
            "HTTP request sent, awaiting response... 200 OK\n",
            "Length: 862182613 (822M) [application/zip]\n",
            "Saving to: ‘glove.6B.zip’\n",
            "\n",
            "glove.6B.zip        100%[===================>] 822.24M  5.10MB/s    in 2m 40s  \n",
            "\n",
            "2022-04-04 20:01:01 (5.15 MB/s) - ‘glove.6B.zip’ saved [862182613/862182613]\n",
            "\n"
          ]
        }
      ]
    },
    {
      "cell_type": "code",
      "source": [
        "import os"
      ],
      "metadata": {
        "id": "ixY3rqShGHXd"
      },
      "execution_count": null,
      "outputs": []
    },
    {
      "cell_type": "code",
      "source": [
        "path_to_glove_file = os.path.join(\n",
        "    os.path.expanduser(\"~\"), \".keras/datasets/glove.6B.100d.txt\"\n",
        ")\n",
        "\n",
        "import zipfile\n",
        "zip_ref = zipfile.ZipFile('/content/glove.6B.zip', 'r')\n",
        "zip_ref.extractall('/content/sample_data')\n",
        "zip_ref.close()\n",
        "\n",
        "embeddings_index = {}\n",
        "\n",
        "with open('/content/glove.6B.100d.txt') as f:\n",
        "    for line in f:\n",
        "        word, coefs = line.split(maxsplit=1)\n",
        "        coefs = np.fromstring(coefs, \"f\", sep=\" \")\n",
        "        embeddings_index[word] = coefs\n",
        "\n",
        "print(\"Found %s word vectors.\" % len(embeddings_index))"
      ],
      "metadata": {
        "colab": {
          "base_uri": "https://localhost:8080/"
        },
        "id": "GC9aDwV2B-4-",
        "outputId": "01483e2d-6424-4dc0-ba97-73aeccccdbc6"
      },
      "execution_count": null,
      "outputs": [
        {
          "output_type": "stream",
          "name": "stdout",
          "text": [
            "Found 400000 word vectors.\n"
          ]
        }
      ]
    },
    {
      "cell_type": "code",
      "source": [
        "len(voc) + 2"
      ],
      "metadata": {
        "colab": {
          "base_uri": "https://localhost:8080/"
        },
        "id": "M9jHNQG-Psyj",
        "outputId": "bdd310b9-4b6a-4bb4-98fa-3272b056aeab"
      },
      "execution_count": null,
      "outputs": [
        {
          "output_type": "execute_result",
          "data": {
            "text/plain": [
              "1002"
            ]
          },
          "metadata": {},
          "execution_count": 121
        }
      ]
    },
    {
      "cell_type": "code",
      "source": [
        "X_test"
      ],
      "metadata": {
        "colab": {
          "base_uri": "https://localhost:8080/"
        },
        "id": "3RkcT7OKP4D9",
        "outputId": "dfa14554-81e0-4f92-c4dd-677fba12f3f3"
      },
      "execution_count": null,
      "outputs": [
        {
          "output_type": "execute_result",
          "data": {
            "text/plain": [
              "42       the effort is sincere and the results are hone...\n",
              "4800     davis the performer is plenty fetching enough ...\n",
              "10229    symbolically , warm water under a red bridge i...\n",
              "6371     although it's a bit smug and repetitive , this...\n",
              "588      the inevitable double- and triple-crosses aris...\n",
              "                               ...                        \n",
              "8361     i like this movie a lot . i like that smith , ...\n",
              "2132     scarlet diva has a voyeuristic tug , but all i...\n",
              "8240     it's mildly entertaining , especially if you f...\n",
              "7882     yes , it's as good as you remember . in fact ,...\n",
              "9268     niccol the filmmaker merges his collaborators'...\n",
              "Name: reviews, Length: 2666, dtype: object"
            ]
          },
          "metadata": {},
          "execution_count": 134
        }
      ]
    },
    {
      "cell_type": "code",
      "source": [
        "VOCAB_SIZE = 1000\n",
        "encoder = tf.keras.layers.TextVectorization(max_tokens=VOCAB_SIZE)\n",
        "encoder.adapt(X_test.values)\n",
        "voc = encoder.get_vocabulary()\n",
        "word_index = dict(zip(voc, range(len(voc))))\n",
        "\n",
        "num_tokens = len(voc) + 2\n",
        "embedding_dim = 100\n",
        "hits = 0\n",
        "misses = 0\n",
        "\n",
        "# Prepare embedding matrix\n",
        "embedding_matrix = np.zeros((num_tokens, embedding_dim))\n",
        "for word, i in word_index.items():\n",
        "    embedding_vector = embeddings_index.get(word)\n",
        "    if embedding_vector is not None:\n",
        "        # Words not found in embedding index will be all-zeros.\n",
        "        # This includes the representation for \"padding\" and \"OOV\"\n",
        "        embedding_matrix[i] = embedding_vector\n",
        "        hits += 1\n",
        "    else:\n",
        "        misses += 1\n",
        "print(\"Converted %d words (%d misses)\" % (hits, misses))"
      ],
      "metadata": {
        "colab": {
          "base_uri": "https://localhost:8080/"
        },
        "id": "Aqy5OZ01CW3g",
        "outputId": "e53f21e8-5ba5-42c0-ff8e-06a563581201"
      },
      "execution_count": null,
      "outputs": [
        {
          "output_type": "stream",
          "name": "stdout",
          "text": [
            "Converted 994 words (6 misses)\n"
          ]
        }
      ]
    },
    {
      "cell_type": "code",
      "source": [
        "model2 = tf.keras.Sequential([\n",
        "    encoder,\n",
        "    tf.keras.layers.Embedding(\n",
        "    num_tokens,\n",
        "    embedding_dim,\n",
        "    embeddings_initializer=tf.keras.initializers.Constant(embedding_matrix),\n",
        "    trainable = True\n",
        "    ),\n",
        "    #tf.keras.layers.average(),\n",
        "    tf.keras.layers.Bidirectional(tf.keras.layers.LSTM(64)),\n",
        "    tf.keras.layers.Dense(64, activation='LeakyReLU'),\n",
        "    tf.keras.layers.Dense(32, activation='LeakyReLU'),\n",
        "    tf.keras.layers.Dense(1, activation='sigmoid')\n",
        "])"
      ],
      "metadata": {
        "id": "d0NY8Ks8E3nk"
      },
      "execution_count": null,
      "outputs": []
    },
    {
      "cell_type": "code",
      "source": [
        "model2.compile(optimizer='adam',\n",
        "              loss='binary_crossentropy',\n",
        "              metrics=METRICS)"
      ],
      "metadata": {
        "id": "AwMwL90nGPiG"
      },
      "execution_count": null,
      "outputs": []
    },
    {
      "cell_type": "code",
      "source": [
        "model2.summary()"
      ],
      "metadata": {
        "colab": {
          "base_uri": "https://localhost:8080/"
        },
        "id": "OV6-XTknGRG9",
        "outputId": "f521f6a3-299e-4c2c-8f5d-889cdb03438b"
      },
      "execution_count": null,
      "outputs": [
        {
          "output_type": "stream",
          "name": "stdout",
          "text": [
            "Model: \"sequential_34\"\n",
            "_________________________________________________________________\n",
            " Layer (type)                Output Shape              Param #   \n",
            "=================================================================\n",
            " text_vectorization_13 (Text  (None, None)             0         \n",
            " Vectorization)                                                  \n",
            "                                                                 \n",
            " embedding_79 (Embedding)    (None, None, 100)         100200    \n",
            "                                                                 \n",
            " bidirectional_26 (Bidirecti  (None, 128)              84480     \n",
            " onal)                                                           \n",
            "                                                                 \n",
            " dense_112 (Dense)           (None, 64)                8256      \n",
            "                                                                 \n",
            " dense_113 (Dense)           (None, 32)                2080      \n",
            "                                                                 \n",
            " dense_114 (Dense)           (None, 1)                 33        \n",
            "                                                                 \n",
            "=================================================================\n",
            "Total params: 195,049\n",
            "Trainable params: 195,049\n",
            "Non-trainable params: 0\n",
            "_________________________________________________________________\n"
          ]
        }
      ]
    },
    {
      "cell_type": "code",
      "source": [
        "history = model2.fit(X_train, y_train, batch_size = 32, epochs=50)"
      ],
      "metadata": {
        "colab": {
          "base_uri": "https://localhost:8080/"
        },
        "id": "uMqHe-8TKn_A",
        "outputId": "15a132e8-ef11-4ee6-cea0-081d8742e57e"
      },
      "execution_count": null,
      "outputs": [
        {
          "output_type": "stream",
          "name": "stdout",
          "text": [
            "Epoch 1/50\n",
            "250/250 [==============================] - 6s 10ms/step - loss: 0.6273 - accuracy: 0.6430 - precision: 0.6497 - recall: 0.6209\n",
            "Epoch 2/50\n",
            "250/250 [==============================] - 2s 10ms/step - loss: 0.5410 - accuracy: 0.7185 - precision: 0.7395 - recall: 0.6770\n",
            "Epoch 3/50\n",
            "250/250 [==============================] - 3s 11ms/step - loss: 0.4977 - accuracy: 0.7503 - precision: 0.7639 - recall: 0.7264\n",
            "Epoch 4/50\n",
            "250/250 [==============================] - 3s 12ms/step - loss: 0.4722 - accuracy: 0.7725 - precision: 0.7917 - recall: 0.7413\n",
            "Epoch 5/50\n",
            "250/250 [==============================] - 4s 16ms/step - loss: 0.4474 - accuracy: 0.7809 - precision: 0.8002 - recall: 0.7503\n",
            "Epoch 6/50\n",
            "250/250 [==============================] - 3s 12ms/step - loss: 0.4213 - accuracy: 0.8009 - precision: 0.8176 - recall: 0.7760\n",
            "Epoch 7/50\n",
            "250/250 [==============================] - 4s 15ms/step - loss: 0.3869 - accuracy: 0.8184 - precision: 0.8371 - recall: 0.7920\n",
            "Epoch 8/50\n",
            "250/250 [==============================] - 3s 10ms/step - loss: 0.3511 - accuracy: 0.8349 - precision: 0.8543 - recall: 0.8087\n",
            "Epoch 9/50\n",
            "250/250 [==============================] - 2s 10ms/step - loss: 0.3170 - accuracy: 0.8559 - precision: 0.8713 - recall: 0.8361\n",
            "Epoch 10/50\n",
            "250/250 [==============================] - 2s 10ms/step - loss: 0.2689 - accuracy: 0.8773 - precision: 0.8928 - recall: 0.8583\n",
            "Epoch 11/50\n",
            "250/250 [==============================] - 2s 10ms/step - loss: 0.2301 - accuracy: 0.8988 - precision: 0.9128 - recall: 0.8825\n",
            "Epoch 12/50\n",
            "250/250 [==============================] - 2s 10ms/step - loss: 0.1916 - accuracy: 0.9188 - precision: 0.9301 - recall: 0.9062\n",
            "Epoch 13/50\n",
            "250/250 [==============================] - 2s 10ms/step - loss: 0.1568 - accuracy: 0.9342 - precision: 0.9451 - recall: 0.9224\n",
            "Epoch 14/50\n",
            "250/250 [==============================] - 2s 10ms/step - loss: 0.1380 - accuracy: 0.9422 - precision: 0.9484 - recall: 0.9356\n",
            "Epoch 15/50\n",
            "250/250 [==============================] - 2s 10ms/step - loss: 0.0994 - accuracy: 0.9581 - precision: 0.9632 - recall: 0.9529\n",
            "Epoch 16/50\n",
            "250/250 [==============================] - 2s 10ms/step - loss: 0.0900 - accuracy: 0.9611 - precision: 0.9646 - recall: 0.9576\n",
            "Epoch 17/50\n",
            "250/250 [==============================] - 2s 10ms/step - loss: 0.0764 - accuracy: 0.9702 - precision: 0.9753 - recall: 0.9651\n",
            "Epoch 18/50\n",
            "250/250 [==============================] - 2s 10ms/step - loss: 0.0688 - accuracy: 0.9730 - precision: 0.9761 - recall: 0.9698\n",
            "Epoch 19/50\n",
            "250/250 [==============================] - 2s 10ms/step - loss: 0.0492 - accuracy: 0.9795 - precision: 0.9836 - recall: 0.9753\n",
            "Epoch 20/50\n",
            "250/250 [==============================] - 2s 10ms/step - loss: 0.0541 - accuracy: 0.9784 - precision: 0.9807 - recall: 0.9761\n",
            "Epoch 21/50\n",
            "250/250 [==============================] - 2s 10ms/step - loss: 0.0486 - accuracy: 0.9804 - precision: 0.9829 - recall: 0.9778\n",
            "Epoch 22/50\n",
            "250/250 [==============================] - 2s 10ms/step - loss: 0.0326 - accuracy: 0.9867 - precision: 0.9880 - recall: 0.9855\n",
            "Epoch 23/50\n",
            "250/250 [==============================] - 2s 10ms/step - loss: 0.0338 - accuracy: 0.9870 - precision: 0.9912 - recall: 0.9828\n",
            "Epoch 24/50\n",
            "250/250 [==============================] - 3s 10ms/step - loss: 0.0307 - accuracy: 0.9871 - precision: 0.9885 - recall: 0.9858\n",
            "Epoch 25/50\n",
            "250/250 [==============================] - 2s 10ms/step - loss: 0.0378 - accuracy: 0.9860 - precision: 0.9899 - recall: 0.9820\n",
            "Epoch 26/50\n",
            "250/250 [==============================] - 2s 10ms/step - loss: 0.0453 - accuracy: 0.9822 - precision: 0.9867 - recall: 0.9778\n",
            "Epoch 27/50\n",
            "250/250 [==============================] - 2s 10ms/step - loss: 0.0247 - accuracy: 0.9899 - precision: 0.9945 - recall: 0.9853\n",
            "Epoch 28/50\n",
            "250/250 [==============================] - 2s 10ms/step - loss: 0.0388 - accuracy: 0.9841 - precision: 0.9882 - recall: 0.9800\n",
            "Epoch 29/50\n",
            "250/250 [==============================] - 2s 10ms/step - loss: 0.0390 - accuracy: 0.9846 - precision: 0.9882 - recall: 0.9810\n",
            "Epoch 30/50\n",
            "250/250 [==============================] - 2s 10ms/step - loss: 0.0256 - accuracy: 0.9889 - precision: 0.9927 - recall: 0.9850\n",
            "Epoch 31/50\n",
            "250/250 [==============================] - 2s 10ms/step - loss: 0.0129 - accuracy: 0.9935 - precision: 0.9967 - recall: 0.9903\n",
            "Epoch 32/50\n",
            "250/250 [==============================] - 2s 10ms/step - loss: 0.0118 - accuracy: 0.9935 - precision: 0.9960 - recall: 0.9910\n",
            "Epoch 33/50\n",
            "250/250 [==============================] - 2s 10ms/step - loss: 0.0115 - accuracy: 0.9939 - precision: 0.9970 - recall: 0.9908\n",
            "Epoch 34/50\n",
            "250/250 [==============================] - 2s 10ms/step - loss: 0.0126 - accuracy: 0.9939 - precision: 0.9970 - recall: 0.9908\n",
            "Epoch 35/50\n",
            "250/250 [==============================] - 2s 10ms/step - loss: 0.0117 - accuracy: 0.9940 - precision: 0.9960 - recall: 0.9920\n",
            "Epoch 36/50\n",
            "250/250 [==============================] - 2s 10ms/step - loss: 0.0122 - accuracy: 0.9941 - precision: 0.9977 - recall: 0.9905\n",
            "Epoch 37/50\n",
            "250/250 [==============================] - 2s 10ms/step - loss: 0.0599 - accuracy: 0.9782 - precision: 0.9812 - recall: 0.9753\n",
            "Epoch 38/50\n",
            "250/250 [==============================] - 2s 10ms/step - loss: 0.0503 - accuracy: 0.9797 - precision: 0.9854 - recall: 0.9741\n",
            "Epoch 39/50\n",
            "250/250 [==============================] - 3s 10ms/step - loss: 0.0300 - accuracy: 0.9871 - precision: 0.9905 - recall: 0.9838\n",
            "Epoch 40/50\n",
            "250/250 [==============================] - 2s 10ms/step - loss: 0.0173 - accuracy: 0.9916 - precision: 0.9942 - recall: 0.9890\n",
            "Epoch 41/50\n",
            "250/250 [==============================] - 2s 10ms/step - loss: 0.0231 - accuracy: 0.9897 - precision: 0.9920 - recall: 0.9875\n",
            "Epoch 42/50\n",
            "250/250 [==============================] - 2s 10ms/step - loss: 0.0335 - accuracy: 0.9870 - precision: 0.9897 - recall: 0.9843\n",
            "Epoch 43/50\n",
            "250/250 [==============================] - 2s 10ms/step - loss: 0.0205 - accuracy: 0.9907 - precision: 0.9945 - recall: 0.9870\n",
            "Epoch 44/50\n",
            "250/250 [==============================] - 2s 10ms/step - loss: 0.0158 - accuracy: 0.9919 - precision: 0.9945 - recall: 0.9893\n",
            "Epoch 45/50\n",
            "250/250 [==============================] - 2s 10ms/step - loss: 0.0374 - accuracy: 0.9865 - precision: 0.9900 - recall: 0.9830\n",
            "Epoch 46/50\n",
            "250/250 [==============================] - 2s 10ms/step - loss: 0.0130 - accuracy: 0.9935 - precision: 0.9965 - recall: 0.9905\n",
            "Epoch 47/50\n",
            "250/250 [==============================] - 2s 10ms/step - loss: 0.0109 - accuracy: 0.9945 - precision: 0.9975 - recall: 0.9915\n",
            "Epoch 48/50\n",
            "250/250 [==============================] - 3s 10ms/step - loss: 0.0102 - accuracy: 0.9945 - precision: 0.9970 - recall: 0.9920\n",
            "Epoch 49/50\n",
            "250/250 [==============================] - 2s 10ms/step - loss: 0.0097 - accuracy: 0.9947 - precision: 0.9972 - recall: 0.9923\n",
            "Epoch 50/50\n",
            "250/250 [==============================] - 2s 10ms/step - loss: 0.0105 - accuracy: 0.9944 - precision: 0.9982 - recall: 0.9905\n"
          ]
        }
      ]
    },
    {
      "cell_type": "code",
      "source": [
        "model2.evaluate(X_test, y_test)"
      ],
      "metadata": {
        "colab": {
          "base_uri": "https://localhost:8080/"
        },
        "id": "tlJnft_DKqPO",
        "outputId": "40d8fa83-00dc-498c-e913-e503742d555e"
      },
      "execution_count": null,
      "outputs": [
        {
          "output_type": "stream",
          "name": "stdout",
          "text": [
            "84/84 [==============================] - 1s 6ms/step - loss: 3.4580 - accuracy: 0.7082 - precision: 0.7096 - recall: 0.6967\n"
          ]
        },
        {
          "output_type": "execute_result",
          "data": {
            "text/plain": [
              "[3.4579641819000244, 0.7081770300865173, 0.7095531821250916, 0.696671724319458]"
            ]
          },
          "metadata": {},
          "execution_count": 306
        }
      ]
    },
    {
      "cell_type": "code",
      "source": [
        "y_predicted = model2.predict(X_test)\n",
        "y_predicted = y_predicted.flatten()\n",
        "y_predicted = np.where(y_predicted > 0.5, 1, 0)\n",
        "cm = confusion_matrix(y_test, y_predicted)"
      ],
      "metadata": {
        "id": "V2kwkS10Krzv"
      },
      "execution_count": null,
      "outputs": []
    },
    {
      "cell_type": "code",
      "source": [
        "from matplotlib import pyplot as plt\n",
        "import seaborn as sn\n",
        "sn.heatmap(cm, annot=True, fmt='d')\n",
        "plt.xlabel('Predicted')\n",
        "plt.ylabel('Truth')"
      ],
      "metadata": {
        "colab": {
          "base_uri": "https://localhost:8080/",
          "height": 296
        },
        "id": "AeZbG6cnKtUM",
        "outputId": "82c18b7a-2cd4-44db-b39f-2f6b560a17e1"
      },
      "execution_count": null,
      "outputs": [
        {
          "output_type": "execute_result",
          "data": {
            "text/plain": [
              "Text(33.0, 0.5, 'Truth')"
            ]
          },
          "metadata": {},
          "execution_count": 308
        },
        {
          "output_type": "display_data",
          "data": {
            "text/plain": [
              "<Figure size 432x288 with 2 Axes>"
            ],
            "image/png": "[encoded data removed]"
          },
          "metadata": {
            "needs_background": "light"
          }
        }
      ]
    },
    {
      "cell_type": "code",
      "source": [
        "print(classification_report(y_test, y_predicted))"
      ],
      "metadata": {
        "colab": {
          "base_uri": "https://localhost:8080/"
        },
        "id": "ko9JwF7uKuqN",
        "outputId": "bbd0fe4a-f2c8-4618-e313-943ccd8e0cda"
      },
      "execution_count": null,
      "outputs": [
        {
          "output_type": "stream",
          "name": "stdout",
          "text": [
            "              precision    recall  f1-score   support\n",
            "\n",
            "           0       0.71      0.72      0.71      1344\n",
            "           1       0.71      0.70      0.70      1322\n",
            "\n",
            "    accuracy                           0.71      2666\n",
            "   macro avg       0.71      0.71      0.71      2666\n",
            "weighted avg       0.71      0.71      0.71      2666\n",
            "\n"
          ]
        }
      ]
    },
    {
      "cell_type": "code",
      "source": [
        "model3 = tf.keras.Sequential([\n",
        "    encoder,\n",
        "    tf.keras.layers.Embedding(\n",
        "    num_tokens,\n",
        "    embedding_dim,\n",
        "    embeddings_initializer=tf.keras.initializers.Constant(embedding_matrix),\n",
        "    trainable = True\n",
        "    ),\n",
        "    #tf.keras.layers.average(),\n",
        "    tf.keras.layers.Bidirectional(tf.keras.layers.GRU(64)),\n",
        "    tf.keras.layers.Dense(64, activation='LeakyReLU'),\n",
        "    tf.keras.layers.Dense(32, activation='LeakyReLU'),\n",
        "    tf.keras.layers.Dense(1, activation='sigmoid')\n",
        "])"
      ],
      "metadata": {
        "id": "ushO781uhdk1"
      },
      "execution_count": null,
      "outputs": []
    },
    {
      "cell_type": "code",
      "source": [
        "encoder('hello im yeshwanth').numpy()"
      ],
      "metadata": {
        "colab": {
          "base_uri": "https://localhost:8080/"
        },
        "id": "h7n6hA3diDgk",
        "outputId": "d7462eba-7b1b-42af-ebb5-bc25caf54c97"
      },
      "execution_count": null,
      "outputs": [
        {
          "output_type": "execute_result",
          "data": {
            "text/plain": [
              "array([  1, 604,   1,   0,   0,   0,   0,   0,   0,   0,   0,   0,   0,\n",
              "         0,   0,   0,   0,   0,   0,   0,   0,   0,   0,   0,   0,   0,\n",
              "         0,   0,   0,   0,   0,   0,   0,   0,   0,   0,   0,   0,   0,\n",
              "         0,   0,   0,   0,   0,   0,   0,   0,   0,   0,   0])"
            ]
          },
          "metadata": {},
          "execution_count": 297
        }
      ]
    },
    {
      "cell_type": "code",
      "source": [
        "model3.compile(optimizer='adam',\n",
        "              loss='binary_crossentropy',\n",
        "              metrics=METRICS)"
      ],
      "metadata": {
        "id": "wlQDiDzihj-q"
      },
      "execution_count": null,
      "outputs": []
    },
    {
      "cell_type": "code",
      "source": [
        "history = model3.fit(X_train, y_train, batch_size = 32, epochs=50)"
      ],
      "metadata": {
        "id": "9plMHVuzhlb4",
        "colab": {
          "base_uri": "https://localhost:8080/"
        },
        "outputId": "27d1f3da-9799-44d4-ec6a-0ac3aec48c15"
      },
      "execution_count": null,
      "outputs": [
        {
          "output_type": "stream",
          "name": "stdout",
          "text": [
            "Epoch 1/50\n",
            "250/250 [==============================] - 32s 10ms/step - loss: 0.6509 - accuracy: 0.6322 - precision: 0.6411 - recall: 0.6005\n",
            "Epoch 2/50\n",
            "250/250 [==============================] - 2s 10ms/step - loss: 0.5543 - accuracy: 0.7156 - precision: 0.7345 - recall: 0.6777\n",
            "Epoch 3/50\n",
            "250/250 [==============================] - 2s 10ms/step - loss: 0.5124 - accuracy: 0.7379 - precision: 0.7572 - recall: 0.7024\n",
            "Epoch 4/50\n",
            "250/250 [==============================] - 2s 9ms/step - loss: 0.4780 - accuracy: 0.7613 - precision: 0.7820 - recall: 0.7264\n",
            "Epoch 5/50\n",
            "250/250 [==============================] - 2s 9ms/step - loss: 0.4447 - accuracy: 0.7803 - precision: 0.7990 - recall: 0.7506\n",
            "Epoch 6/50\n",
            "250/250 [==============================] - 2s 10ms/step - loss: 0.4070 - accuracy: 0.8012 - precision: 0.8169 - recall: 0.7778\n",
            "Epoch 7/50\n",
            "250/250 [==============================] - 2s 9ms/step - loss: 0.3806 - accuracy: 0.8229 - precision: 0.8438 - recall: 0.7937\n",
            "Epoch 8/50\n",
            "250/250 [==============================] - 2s 9ms/step - loss: 0.3421 - accuracy: 0.8394 - precision: 0.8583 - recall: 0.8142\n",
            "Epoch 9/50\n",
            "250/250 [==============================] - 2s 9ms/step - loss: 0.2945 - accuracy: 0.8671 - precision: 0.8834 - recall: 0.8466\n",
            "Epoch 10/50\n",
            "250/250 [==============================] - 2s 9ms/step - loss: 0.2529 - accuracy: 0.8812 - precision: 0.9018 - recall: 0.8563\n",
            "Epoch 11/50\n",
            "250/250 [==============================] - 2s 9ms/step - loss: 0.2194 - accuracy: 0.8996 - precision: 0.9155 - recall: 0.8810\n",
            "Epoch 12/50\n",
            "250/250 [==============================] - 2s 10ms/step - loss: 0.1740 - accuracy: 0.9225 - precision: 0.9362 - recall: 0.9072\n",
            "Epoch 13/50\n",
            "250/250 [==============================] - 2s 10ms/step - loss: 0.1457 - accuracy: 0.9365 - precision: 0.9462 - recall: 0.9259\n",
            "Epoch 14/50\n",
            "250/250 [==============================] - 2s 9ms/step - loss: 0.1230 - accuracy: 0.9471 - precision: 0.9542 - recall: 0.9396\n",
            "Epoch 15/50\n",
            "250/250 [==============================] - 2s 9ms/step - loss: 0.1036 - accuracy: 0.9554 - precision: 0.9644 - recall: 0.9459\n",
            "Epoch 16/50\n",
            "250/250 [==============================] - 2s 9ms/step - loss: 0.0926 - accuracy: 0.9619 - precision: 0.9670 - recall: 0.9566\n",
            "Epoch 17/50\n",
            "250/250 [==============================] - 2s 9ms/step - loss: 0.0683 - accuracy: 0.9710 - precision: 0.9746 - recall: 0.9673\n",
            "Epoch 18/50\n",
            "250/250 [==============================] - 2s 10ms/step - loss: 0.0543 - accuracy: 0.9777 - precision: 0.9824 - recall: 0.9731\n",
            "Epoch 19/50\n",
            "250/250 [==============================] - 2s 10ms/step - loss: 0.0476 - accuracy: 0.9804 - precision: 0.9837 - recall: 0.9771\n",
            "Epoch 20/50\n",
            "250/250 [==============================] - 2s 10ms/step - loss: 0.0547 - accuracy: 0.9769 - precision: 0.9792 - recall: 0.9746\n",
            "Epoch 21/50\n",
            "250/250 [==============================] - 2s 9ms/step - loss: 0.0509 - accuracy: 0.9787 - precision: 0.9824 - recall: 0.9751\n",
            "Epoch 22/50\n",
            "250/250 [==============================] - 2s 9ms/step - loss: 0.0416 - accuracy: 0.9829 - precision: 0.9842 - recall: 0.9815\n",
            "Epoch 23/50\n",
            "250/250 [==============================] - 2s 9ms/step - loss: 0.0363 - accuracy: 0.9839 - precision: 0.9884 - recall: 0.9793\n",
            "Epoch 24/50\n",
            "250/250 [==============================] - 2s 9ms/step - loss: 0.0272 - accuracy: 0.9896 - precision: 0.9935 - recall: 0.9858\n",
            "Epoch 25/50\n",
            "250/250 [==============================] - 2s 10ms/step - loss: 0.0395 - accuracy: 0.9839 - precision: 0.9865 - recall: 0.9813\n",
            "Epoch 26/50\n",
            "250/250 [==============================] - 2s 9ms/step - loss: 0.0382 - accuracy: 0.9832 - precision: 0.9833 - recall: 0.9833\n",
            "Epoch 27/50\n",
            "250/250 [==============================] - 2s 10ms/step - loss: 0.0319 - accuracy: 0.9862 - precision: 0.9904 - recall: 0.9820\n",
            "Epoch 28/50\n",
            "250/250 [==============================] - 3s 11ms/step - loss: 0.0170 - accuracy: 0.9922 - precision: 0.9950 - recall: 0.9895\n",
            "Epoch 29/50\n",
            "250/250 [==============================] - 2s 9ms/step - loss: 0.0140 - accuracy: 0.9937 - precision: 0.9965 - recall: 0.9910\n",
            "Epoch 30/50\n",
            "250/250 [==============================] - 2s 9ms/step - loss: 0.0134 - accuracy: 0.9936 - precision: 0.9957 - recall: 0.9915\n",
            "Epoch 31/50\n",
            "250/250 [==============================] - 2s 9ms/step - loss: 0.0158 - accuracy: 0.9922 - precision: 0.9947 - recall: 0.9898\n",
            "Epoch 32/50\n",
            "250/250 [==============================] - 2s 10ms/step - loss: 0.0665 - accuracy: 0.9746 - precision: 0.9767 - recall: 0.9726\n",
            "Epoch 33/50\n",
            "250/250 [==============================] - 2s 9ms/step - loss: 0.0351 - accuracy: 0.9860 - precision: 0.9877 - recall: 0.9843\n",
            "Epoch 34/50\n",
            "250/250 [==============================] - 2s 9ms/step - loss: 0.0258 - accuracy: 0.9897 - precision: 0.9920 - recall: 0.9875\n",
            "Epoch 35/50\n",
            "250/250 [==============================] - 2s 9ms/step - loss: 0.0167 - accuracy: 0.9927 - precision: 0.9955 - recall: 0.9900\n",
            "Epoch 36/50\n",
            "250/250 [==============================] - 2s 10ms/step - loss: 0.0222 - accuracy: 0.9906 - precision: 0.9920 - recall: 0.9893\n",
            "Epoch 37/50\n",
            "250/250 [==============================] - 2s 9ms/step - loss: 0.0392 - accuracy: 0.9847 - precision: 0.9860 - recall: 0.9835\n",
            "Epoch 38/50\n",
            "250/250 [==============================] - 2s 10ms/step - loss: 0.0292 - accuracy: 0.9885 - precision: 0.9902 - recall: 0.9868\n",
            "Epoch 39/50\n",
            "250/250 [==============================] - 2s 10ms/step - loss: 0.0198 - accuracy: 0.9917 - precision: 0.9945 - recall: 0.9890\n",
            "Epoch 40/50\n",
            "250/250 [==============================] - 2s 9ms/step - loss: 0.0239 - accuracy: 0.9899 - precision: 0.9930 - recall: 0.9868\n",
            "Epoch 41/50\n",
            "250/250 [==============================] - 2s 10ms/step - loss: 0.0175 - accuracy: 0.9926 - precision: 0.9945 - recall: 0.9908\n",
            "Epoch 42/50\n",
            "250/250 [==============================] - 2s 9ms/step - loss: 0.0184 - accuracy: 0.9921 - precision: 0.9940 - recall: 0.9903\n",
            "Epoch 43/50\n",
            "250/250 [==============================] - 2s 9ms/step - loss: 0.0125 - accuracy: 0.9940 - precision: 0.9960 - recall: 0.9920\n",
            "Epoch 44/50\n",
            "250/250 [==============================] - 2s 9ms/step - loss: 0.0266 - accuracy: 0.9892 - precision: 0.9920 - recall: 0.9865\n",
            "Epoch 45/50\n",
            "250/250 [==============================] - 2s 10ms/step - loss: 0.0325 - accuracy: 0.9877 - precision: 0.9897 - recall: 0.9858\n",
            "Epoch 46/50\n",
            "250/250 [==============================] - 2s 9ms/step - loss: 0.0317 - accuracy: 0.9875 - precision: 0.9897 - recall: 0.9853\n",
            "Epoch 47/50\n",
            "250/250 [==============================] - 2s 9ms/step - loss: 0.0204 - accuracy: 0.9907 - precision: 0.9937 - recall: 0.9878\n",
            "Epoch 48/50\n",
            "250/250 [==============================] - 2s 9ms/step - loss: 0.0129 - accuracy: 0.9937 - precision: 0.9962 - recall: 0.9913\n",
            "Epoch 49/50\n",
            "250/250 [==============================] - 2s 10ms/step - loss: 0.0127 - accuracy: 0.9941 - precision: 0.9967 - recall: 0.9915\n",
            "Epoch 50/50\n",
            "250/250 [==============================] - 2s 9ms/step - loss: 0.0108 - accuracy: 0.9942 - precision: 0.9962 - recall: 0.9923\n"
          ]
        }
      ]
    },
    {
      "cell_type": "code",
      "source": [
        "model3.evaluate(X_test, y_test)"
      ],
      "metadata": {
        "id": "wNdVNIr0hrcI",
        "colab": {
          "base_uri": "https://localhost:8080/"
        },
        "outputId": "0591df44-69ac-4a1d-b85e-c26d30e95485"
      },
      "execution_count": null,
      "outputs": [
        {
          "output_type": "stream",
          "name": "stdout",
          "text": [
            "84/84 [==============================] - 1s 6ms/step - loss: 3.1030 - accuracy: 0.7063 - precision: 0.7075 - recall: 0.6952\n"
          ]
        },
        {
          "output_type": "execute_result",
          "data": {
            "text/plain": [
              "[3.102954149246216, 0.7063015699386597, 0.707467257976532, 0.695158839225769]"
            ]
          },
          "metadata": {},
          "execution_count": 314
        }
      ]
    },
    {
      "cell_type": "code",
      "source": [
        "y_predicted = model3.predict(X_test)\n",
        "y_predicted = y_predicted.flatten()\n",
        "y_predicted = np.where(y_predicted > 0.5, 1, 0)\n",
        "cm = confusion_matrix(y_test, y_predicted)"
      ],
      "metadata": {
        "id": "AG9QbOQKhtv3"
      },
      "execution_count": null,
      "outputs": []
    },
    {
      "cell_type": "code",
      "source": [
        "from matplotlib import pyplot as plt\n",
        "import seaborn as sn\n",
        "sn.heatmap(cm, annot=True, fmt='d')\n",
        "plt.xlabel('Predicted')\n",
        "plt.ylabel('Truth')"
      ],
      "metadata": {
        "id": "vKCWth8Uhu0A",
        "colab": {
          "base_uri": "https://localhost:8080/",
          "height": 252
        },
        "outputId": "304b5e63-7849-432e-a2b9-02385ec9644b"
      },
      "execution_count": null,
      "outputs": [
        {
          "output_type": "execute_result",
          "data": {
            "text/plain": [
              "Text(33.0, 0.5, 'Truth')"
            ]
          },
          "metadata": {},
          "execution_count": 316
        },
        {
          "output_type": "display_data",
          "data": {
            "text/plain": [
              "<Figure size 432x288 with 2 Axes>"
            ],
            "image/png": "[encoded data removed]"
          },
          "metadata": {
            "needs_background": "light"
          }
        }
      ]
    },
    {
      "cell_type": "code",
      "source": [
        "print(classification_report(y_test, y_predicted))"
      ],
      "metadata": {
        "id": "qRWN7glbhxqM",
        "colab": {
          "base_uri": "https://localhost:8080/"
        },
        "outputId": "f3181512-dace-4dc1-af5a-0a81fdea069f"
      },
      "execution_count": null,
      "outputs": [
        {
          "output_type": "stream",
          "name": "stdout",
          "text": [
            "              precision    recall  f1-score   support\n",
            "\n",
            "           0       0.71      0.72      0.71      1344\n",
            "           1       0.71      0.70      0.70      1322\n",
            "\n",
            "    accuracy                           0.71      2666\n",
            "   macro avg       0.71      0.71      0.71      2666\n",
            "weighted avg       0.71      0.71      0.71      2666\n",
            "\n"
          ]
        }
      ]
    }
  ]
}